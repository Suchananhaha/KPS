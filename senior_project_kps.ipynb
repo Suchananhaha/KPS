{
 "cells": [
  {
   "cell_type": "code",
   "execution_count": null,
   "metadata": {},
   "outputs": [],
   "source": [
    "# !python -m venv .env"
   ]
  },
  {
   "cell_type": "code",
   "execution_count": null,
   "metadata": {},
   "outputs": [],
   "source": [
    "# !pip install torch torchvision torchaudio --index-url https://download.pytorch.org/whl/cu124\n"
   ]
  },
  {
   "cell_type": "code",
   "execution_count": null,
   "metadata": {},
   "outputs": [],
   "source": [
    "# !pip install -r requirements.txt"
   ]
  },
  {
   "cell_type": "code",
   "execution_count": null,
   "metadata": {},
   "outputs": [],
   "source": [
    "from IPython import display\n",
    "display.clear_output()\n",
    "\n",
    "import ultralytics\n",
    "ultralytics.checks()\n",
    "\n",
    "from ultralytics import YOLO\n",
    "\n",
    "import torch\n",
    "print(torch.cuda.is_available())\n",
    "\n",
    "model = YOLO(\"yolov8s.pt\")\n",
    "\n",
    "model.train(\n",
    "    data=\"C:/Users/thana/Downloads/KPS_Label.v34-best-aug_pre.yolov8/data.yaml\",\n",
    "    epochs=300,\n",
    "    imgsz=288,\n",
    "    plots=True,\n",
    "    device=0\n",
    ")"
   ]
  },
  {
   "cell_type": "code",
   "execution_count": 2,
   "metadata": {},
   "outputs": [
    {
     "name": "stdout",
     "output_type": "stream",
     "text": [
      "Ultralytics 8.3.18  Python-3.11.9 torch-2.4.1+cu124 CUDA:0 (NVIDIA GeForce RTX 3050 Laptop GPU, 4096MiB)\n",
      "Model summary (fused): 168 layers, 11,126,745 parameters, 0 gradients, 28.4 GFLOPs\n"
     ]
    },
    {
     "name": "stderr",
     "output_type": "stream",
     "text": [
      "\u001b[34m\u001b[1mval: \u001b[0mScanning C:\\Users\\thana\\Downloads\\KPS_Label.v34-best-aug_pre.yolov8\\valid\\labels.cache... 239 images, 0 backgrounds, 0 corrupt: 100%|██████████| 239/239 [00:00<?, ?it/s]\n",
      "                 Class     Images  Instances      Box(P          R      mAP50  mAP50-95): 100%|██████████| 15/15 [00:01<00:00,  7.98it/s]\n"
     ]
    },
    {
     "name": "stdout",
     "output_type": "stream",
     "text": [
      "                   all        239        239      0.854       0.82       0.86       0.85\n",
      "               Class_A         79         79      0.765      0.823      0.815      0.812\n",
      "               Class_B         80         80       0.84      0.787      0.848      0.828\n",
      "               Class_C         80         80      0.958       0.85      0.916      0.912\n",
      "Speed: 0.2ms preprocess, 4.0ms inference, 0.0ms loss, 0.9ms postprocess per image\n",
      "Results saved to \u001b[1mc:\\Users\\thana\\OneDrive\\Desktop\\senior_project_kps\\runs\\detect\\val11\u001b[0m\n"
     ]
    }
   ],
   "source": [
    "from ultralytics import YOLO\n",
    "\n",
    "model = YOLO(\"C:/Users/thana/OneDrive/Desktop/senior_project_kps/runs/detect/train57/weights/best.pt\")\n",
    "\n",
    "results = model.val(\n",
    "    data=\"C:/Users/thana/Downloads/KPS_Label.v34-best-aug_pre.yolov8/data.yaml\",\n",
    "    epochs=300,\n",
    "    imgsz=288,\n",
    "    plots=True,\n",
    "    device=0,\n",
    "    conf = 0.739\n",
    ")"
   ]
  },
  {
   "cell_type": "code",
   "execution_count": null,
   "metadata": {},
   "outputs": [],
   "source": [
    "import cv2\n",
    "\n",
    "camera = cv2.VideoCapture(0)\n",
    "\n",
    "if not camera.isOpened():\n",
    "    print(\"Failed to open the camera.\")\n",
    "else:\n",
    "    camera.set(cv2.CAP_PROP_FRAME_WIDTH, 1920)\n",
    "    camera.set(cv2.CAP_PROP_FRAME_HEIGHT, 1080)\n",
    "\n",
    "    width = camera.get(cv2.CAP_PROP_FRAME_WIDTH)\n",
    "    height = camera.get(cv2.CAP_PROP_FRAME_HEIGHT)\n",
    "\n",
    "    print(f\"Camera resolution: {int(width)}x{int(height)}\")\n",
    "\n",
    "camera.release()\n"
   ]
  }
 ],
 "metadata": {
  "kernelspec": {
   "display_name": ".env",
   "language": "python",
   "name": "python3"
  },
  "language_info": {
   "codemirror_mode": {
    "name": "ipython",
    "version": 3
   },
   "file_extension": ".py",
   "mimetype": "text/x-python",
   "name": "python",
   "nbconvert_exporter": "python",
   "pygments_lexer": "ipython3",
   "version": "3.11.9"
  }
 },
 "nbformat": 4,
 "nbformat_minor": 2
}
